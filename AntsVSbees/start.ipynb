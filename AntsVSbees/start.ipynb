{
  "nbformat": 4,
  "nbformat_minor": 0,
  "metadata": {
    "colab": {
      "name": "start.ipynb",
      "version": "0.3.2",
      "provenance": [],
      "collapsed_sections": []
    },
    "kernelspec": {
      "name": "python3",
      "display_name": "Python 3"
    }
  },
  "cells": [
    {
      "cell_type": "markdown",
      "metadata": {
        "id": "IKqv_88b1PnN",
        "colab_type": "text"
      },
      "source": [
        "[from](https://inst.eecs.berkeley.edu/~cs61a/fa17/proj/ants/)"
      ]
    },
    {
      "cell_type": "markdown",
      "metadata": {
        "id": "wlP9hDPBvARL",
        "colab_type": "text"
      },
      "source": [
        "### Il gioco\n",
        "\n",
        "In questo progetto verrà creato un gioco di tipo \"tower defense\" chiamato Ants Vs. SomeBees. Come formica regina, popolerai la tua colonia con le più coraggiose\n",
        "formiche che puoi radunare.\n",
        "Le tue formiche devono proteggere la loro regina dalle api malvagie che invadono il tuo territorio.\n",
        "Le formiche per scacciare le api gli lanciano delle foglie che le allontanano. Se non riesci a tormentare adeguatamente gli intrusi aviotrasportati la tua regina soccomberà all'ira delle api. \n",
        "\n",
        "Questo progetto combina paradigmi di programmazione funzionale e di programmazione orientata agli oggetti. Il progetto prevede anche la comprensione, l'estensione e il test di un ampio programma.\n",
        "\n",
        "L'archivio `ants.zip` contiene diversi file, ma tutte le modifiche verranno apportate sul file `ants.py`.\n",
        "\n"
      ]
    },
    {
      "cell_type": "markdown",
      "metadata": {
        "id": "YYtNtY1Uybbf",
        "colab_type": "text"
      },
      "source": [
        "#### Concetti base\n",
        "\n",
        "\n",
        "A game of Ants Vs. SomeBees consists of a series of turns. In each turn, new bees may enter the ant colony. Then, new ants are placed. Finally, all insects (ants, then bees) take individual actions: bees sting ants, and ants throw leaves at bees. The game ends either when a bee reaches the ant queen (you lose), or the entire bee flotilla has been vanquished (you win).\n",
        "\n",
        "**The Colony**. The colony consists of several places that are chained together. The exit of each Place leads to another Place.\n",
        "\n",
        "**Placing Ants**. There are two constraints that limit ant production. Placing an ant uses up some amount of the colony's food, a different amount for each type of ant. Also, only one ant can occupy each Place.\n",
        "\n",
        "**Bees**. When it is time to act, a bee either moves to the exit of its current Place if no ant blocks its path, or stings an ant that blocks its path.\n",
        "\n",
        "**Ants**. Each type of ant takes a different action and requires a different amount of food to place. The two most basic ant types are the HarvesterAnt, which adds one food to the colony during each turn, and the ThrowerAnt, which throws a leaf at a bee each turn.\n",
        "\n"
      ]
    },
    {
      "cell_type": "markdown",
      "metadata": {
        "id": "bt2n93GEzFOH",
        "colab_type": "text"
      },
      "source": [
        "#### The Code\n",
        "\n",
        "Most concepts in the game have a corresponding class that encapsulates the logic for that concept. For instance, a Place in the colony holds insects and connects to other places. A Bee stings ants and advances through exits."
      ]
    },
    {
      "cell_type": "markdown",
      "metadata": {
        "id": "3MAt8yGN0vMP",
        "colab_type": "text"
      },
      "source": [
        "### Phase 1 \n",
        "\n",
        "Nella prima fase completerai l'implementazione che permetterà il gioco base con due tipi di `Ants`: la `HarvesterAnt` e la `ThrowerAnt`.\n",
        "\n",
        "#### Problem 0 (0 pt)\n",
        "\n",
        "Answer the following questions with your partner after you have read the entire ants.py file. If you cannot answer these questions, read the file again or ask a question in the Question 0 thread on Piazza.\n",
        "\n",
        "* What is the significance of an insect's armor attribute? What happens when armor reaches 0?\n",
        "\n",
        "* What are all of the attributes of the Ant class?\n",
        "* Is the armor attribute of the Ant class an instance attribute or class attribute?\n",
        "* Is the damage attribute of an Ant subclass (such as ThrowerAnt) an instance attribute or class attribute?\n",
        "* Which class do both Ant and Bee inherit from?\n",
        "* What attribute(s) do Ant and Bee inherit from their base class?\n",
        "\n",
        "You can test your understanding by running\n",
        "\n",
        "python3 ok -q 00 -u\n"
      ]
    }
  ]
}